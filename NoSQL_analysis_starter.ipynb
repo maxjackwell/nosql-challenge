{
 "cells": [
  {
   "cell_type": "markdown",
   "id": "9a57c4c6",
   "metadata": {},
   "source": [
    "# Eat Safe, Love"
   ]
  },
  {
   "cell_type": "markdown",
   "id": "064ef857",
   "metadata": {},
   "source": [
    "## Notebook Set Up"
   ]
  },
  {
   "cell_type": "code",
   "execution_count": null,
   "id": "3ecdd008",
   "metadata": {},
   "outputs": [],
   "source": [
    "from pymongo import MongoClient\n",
    "import pandas as pd\n",
    "from pprint import pprint"
   ]
  },
  {
   "cell_type": "code",
   "execution_count": null,
   "id": "59390c4a",
   "metadata": {},
   "outputs": [],
   "source": [
    "# Create an instance of MongoClient\n",
    "mongo = MongoClient(port=27017)"
   ]
  },
  {
   "cell_type": "code",
   "execution_count": null,
   "id": "71e373c1",
   "metadata": {},
   "outputs": [],
   "source": [
    "# assign the uk_food database to a variable name\n",
    "db = mongo['uk_food']"
   ]
  },
  {
   "cell_type": "code",
   "execution_count": null,
   "id": "18ab463c",
   "metadata": {},
   "outputs": [],
   "source": [
    "# review the collections in our database\n",
    "print(db.list_collection_names())"
   ]
  },
  {
   "cell_type": "code",
   "execution_count": null,
   "id": "11c9f11b",
   "metadata": {},
   "outputs": [],
   "source": [
    "# assign the collection to a variable\n",
    "establishments = db['establishments']"
   ]
  },
  {
   "cell_type": "markdown",
   "id": "d5671434",
   "metadata": {},
   "source": [
    "## Part 3: Exploratory Analysis\n",
    "Unless otherwise stated, for each question: \n",
    "* Use `count_documents` to display the number of documents contained in the result.\n",
    "* Display the first document in the results using `pprint`.\n",
    "* Convert the result to a Pandas DataFrame, print the number of rows in the DataFrame, and display the first 10 rows."
   ]
  },
  {
   "cell_type": "markdown",
   "id": "314bd884",
   "metadata": {},
   "source": [
    "### 1. Which establishments have a hygiene score equal to 20?"
   ]
  },
  {
   "cell_type": "code",
   "execution_count": null,
   "id": "c2da7648",
   "metadata": {},
   "outputs": [],
   "source": [
    "# Find the establishments with a hygiene score of 20\n",
    "query = {'scores.Hygiene': {'$eq': 20}}\n",
    "\n",
    "# Use count_documents to display the number of documents in the result\n",
    "count = db.establishments.count_documents(query)\n",
    "print(\"Number of documents with hygiene score 20:\", count)\n",
    "# Display the first document in the results using pprint\n",
    "results = establishments.find(query)\n",
    "pprint(results[0])"
   ]
  },
  {
   "cell_type": "code",
   "execution_count": null,
   "id": "a6e5cece",
   "metadata": {},
   "outputs": [],
   "source": [
    "# Convert the result to a Pandas DataFrame\n",
    "hygiene_df = pd.DataFrame(results)\n",
    "# Display the number of rows in the DataFrame\n",
    "length = len(hygiene_df)\n",
    "print(\"The number of rows in Hygiene_df are:\", length)\n",
    "# Display the first 10 rows of the DataFrame\n",
    "hygiene_df.head(10)"
   ]
  },
  {
   "cell_type": "markdown",
   "id": "0ef4395a",
   "metadata": {},
   "source": [
    "### 2. Which establishments in London have a `RatingValue` greater than or equal to 4?"
   ]
  },
  {
   "cell_type": "code",
   "execution_count": null,
   "id": "93c63829",
   "metadata": {},
   "outputs": [],
   "source": [
    "# Find the establishments with London as the Local Authority and has a RatingValue greater than or equal to 4.\n",
    "from pprint import pprint\n",
    "query2 = (\n",
    "    {'$and': [\n",
    "        {'LocalAuthorityName': {'$regex':'London'}}, \n",
    "        {'RatingValue': {'$gte': 4}}\n",
    "        ]})\n",
    "\n",
    "# Use count_documents to display the number of documents in the result\n",
    "count = db.establishments.count_documents(query2)\n",
    "print(\"Number of documents with London as the Local Authority and has a RatingValue greater than or equal to 4:\", count)\n",
    "# Display the first document in the results using pprint\n",
    "results2 = establishments.find(query2)\n",
    "pprint(results2[0])"
   ]
  },
  {
   "cell_type": "code",
   "execution_count": null,
   "id": "07e24ccb",
   "metadata": {},
   "outputs": [],
   "source": [
    "# Convert the result to a Pandas DataFrame\n",
    "london4_df = pd.DataFrame(results2)\n",
    "# Display the number of rows in the DataFrame\n",
    "length = len(london4_df)\n",
    "print(\"The number of rows in Hygiene_df are:\", length)\n",
    "# Display the first 10 rows of the DataFrame\n",
    "london4_df.head(10)"
   ]
  },
  {
   "attachments": {},
   "cell_type": "markdown",
   "id": "4e570caf",
   "metadata": {},
   "source": [
    "### 3. What are the top 5 establishments with a `RatingValue` rating value of 5, sorted by lowest hygiene score, nearest to the new restaurant added, \"Penang Flavours\"?"
   ]
  },
  {
   "cell_type": "code",
   "execution_count": null,
   "id": "c181bde2",
   "metadata": {},
   "outputs": [],
   "source": [
    "import pprint\n",
    "degree_search = 0.01\n",
    "latitude = 51.490142\n",
    "longitude = 0.08384\n",
    "\n",
    "query = {\n",
    "    'RatingValue': {'$eq': 5},\n",
    "    'geocode.latitude': {'$gte': latitude - degree_search, '$lte': latitude + degree_search},\n",
    "    'geocode.longitude': {'$gte': longitude - degree_search, '$lte': longitude + degree_search},\n",
    "}\n",
    "\n",
    "# Sort by hygiene score in descending order\n",
    "sort = [('scores.Hygiene', -1)]\n",
    "\n",
    "# Limit the number of results\n",
    "limit = 5\n",
    "\n",
    "# Print the results\n",
    "for item in establishments.find(query).sort(sort).limit(limit):\n",
    "    pprint.pprint(item)"
   ]
  },
  {
   "cell_type": "code",
   "execution_count": null,
   "id": "a6ad16f7",
   "metadata": {},
   "outputs": [],
   "source": [
    "# Convert result to Pandas DataFrame\n",
    "results = list(establishments.find(query).sort(sort).limit(limit))\n",
    "\n",
    "# Convert the results to a Pandas DataFrame\n",
    "penang5 = pd.DataFrame(results)\n",
    "penang5.head()"
   ]
  },
  {
   "cell_type": "markdown",
   "id": "67281254",
   "metadata": {},
   "source": [
    "### 4. How many establishments in each Local Authority area have a hygiene score of 0?"
   ]
  },
  {
   "cell_type": "code",
   "execution_count": null,
   "id": "4eeb227e",
   "metadata": {},
   "outputs": [],
   "source": [
    "# Create a pipeline that:\n",
    "# 1. Matches establishments with a hygiene score of 0\n",
    "# 2. Groups the matches by Local Authority\n",
    "# 3. Sorts the matches from highest to lowest\n",
    "match = {'$match': {'scores.Hygiene': 0}}\n",
    "group = {'$group': {'_id': {'LocalAuthorityName': \"$LocalAuthorityName\"}, 'count': {'$sum': 1}}}\n",
    "sort = {'$sort': {'count': -1}}\n",
    "pipeline = [match, group, sort]\n",
    "results = list(establishments.aggregate(pipeline))\n",
    "# Print the number of documents in the result\n",
    "print(\"Number of rows in result: \", len(results))\n",
    "# Print the first 10 results\n",
    "print(\"Top 10 Local Authority establishments with hygiene score 0:\")\n",
    "pprint.pprint(results[:10])"
   ]
  },
  {
   "cell_type": "code",
   "execution_count": null,
   "id": "d8aab364",
   "metadata": {},
   "outputs": [],
   "source": [
    "# Convert the result to a Pandas DataFrame\n",
    "bad_hygiene_df = pd.DataFrame(results)\n",
    "\n",
    "# Display the number of rows in the DataFrame\n",
    "print(\"Number of rows in the DataFrame:\", len(bad_hygiene_df))\n",
    "\n",
    "# Display the first 10 rows of the DataFrame\n",
    "bad_hygiene_df.head(10)"
   ]
  }
 ],
 "metadata": {
  "kernelspec": {
   "display_name": "Python 3 (ipykernel)",
   "language": "python",
   "name": "python3"
  },
  "language_info": {
   "codemirror_mode": {
    "name": "ipython",
    "version": 3
   },
   "file_extension": ".py",
   "mimetype": "text/x-python",
   "name": "python",
   "nbconvert_exporter": "python",
   "pygments_lexer": "ipython3",
   "version": "3.11.5"
  }
 },
 "nbformat": 4,
 "nbformat_minor": 5
}
